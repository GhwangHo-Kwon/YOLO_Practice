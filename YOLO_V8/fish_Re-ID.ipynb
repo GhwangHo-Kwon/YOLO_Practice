{
 "cells": [
  {
   "cell_type": "code",
   "execution_count": 9,
   "id": "5f6c2a41",
   "metadata": {},
   "outputs": [
    {
     "name": "stdout",
     "output_type": "stream",
     "text": [
      "\n",
      "image 1/1 c:\\Source\\YOLO_Practice\\YOLO_V8\\Guppy_fish_dataset_YOLO\\train\\images\\ikan_v4_002.jpg: 384x640 4 guppys, 151.3ms\n",
      "Speed: 2.1ms preprocess, 151.3ms inference, 0.7ms postprocess per image at shape (1, 3, 384, 640)\n",
      "Bounding Box: x=1809.908935546875, y=200.94061279296875, w=150.456298828125, h=124.20698547363281\n",
      "Bounding Box: x=1584.956787109375, y=142.5042724609375, w=176.4591064453125, h=127.42100524902344\n",
      "Bounding Box: x=1531.294921875, y=204.8870849609375, w=65.268310546875, h=135.3074188232422\n",
      "Bounding Box: x=548.2476806640625, y=151.1898956298828, w=153.27420043945312, h=99.24712371826172\n"
     ]
    }
   ],
   "source": [
    "from ultralytics import YOLO\n",
    "\n",
    "# YOLOv8 모델 불러오기 (pre-trained 모델)\n",
    "model = YOLO(\"../runs/detect/train/weights/best.pt\")\n",
    "\n",
    "# YOLO 모델을 통해 탐지 결과 가져오기\n",
    "results = model(\"./Guppy_fish_dataset_YOLO/train/images/ikan_v4_002.jpg\")\n",
    "\n",
    "# 첫 번째 결과 객체 접근\n",
    "result = results[0]\n",
    "\n",
    "# 바운딩 박스를 가져오는 방법\n",
    "boxes = result.boxes  # Boxes 객체로 반환됩니다.\n",
    "\n",
    "# 바운딩 박스 좌표(x_center, y_center, width, height) 추출\n",
    "xywh = boxes.xywh.cpu().numpy()  # (x_center, y_center, width, height)\n",
    "\n",
    "# 바운딩 박스 출력\n",
    "for box in xywh:\n",
    "    x_center, y_center, w, h = box\n",
    "    print(f\"Bounding Box: x={x_center}, y={y_center}, w={w}, h={h}\")"
   ]
  },
  {
   "cell_type": "code",
   "execution_count": 10,
   "id": "d2f89468",
   "metadata": {},
   "outputs": [],
   "source": [
    "import torch\n",
    "import torchvision.models as models\n",
    "import torch.nn as nn\n",
    "\n",
    "class FishReIDModel(nn.Module):\n",
    "    def __init__(self, backbone=models.resnet50(pretrained=True), embedding_size=512):\n",
    "        super(FishReIDModel, self).__init__()\n",
    "        \n",
    "        # ResNet 백본 네트워크 (사전 학습된 모델 사용)\n",
    "        self.backbone = backbone\n",
    "        \n",
    "        # 마지막 레이어는 임베딩 차원으로 변환하는 Fully Connected Layer\n",
    "        self.fc = nn.Linear(2048, embedding_size)\n",
    "        \n",
    "    def forward(self, x):\n",
    "        x = self.backbone(x)  # 특징 추출\n",
    "        x = x.view(x.size(0), -1)  # 배치 크기 맞추기\n",
    "        x = self.fc(x)  # 임베딩으로 변환\n",
    "        return x"
   ]
  },
  {
   "cell_type": "code",
   "execution_count": 13,
   "id": "2a2d612e",
   "metadata": {},
   "outputs": [],
   "source": [
    "import torch\n",
    "from ultralytics import YOLO\n",
    "from torchvision import transforms\n",
    "from PIL import Image\n",
    "import numpy as np\n",
    "\n",
    "# YOLOv8 모델 불러오기 (사전 학습된 모델)\n",
    "yolo_model = YOLO(\"../runs/detect/train/weights/best.pt\")\n",
    "reid_model = FishReIDModel()  # 앞서 정의한 Re-ID 모델 (ResNet 기반)\n",
    "\n",
    "# Re-ID 모델을 평가 모드로 설정\n",
    "reid_model.eval()\n",
    "\n",
    "# 이미지 로드 및 전처리\n",
    "image_path = \"./Guppy_fish_dataset_YOLO/train/images/ikan_v4_002.jpg\"\n",
    "img = Image.open(image_path)\n",
    "transform = transforms.Compose([\n",
    "    transforms.Resize((224, 224)),\n",
    "    transforms.ToTensor(),\n",
    "    transforms.Normalize(mean=[0.485, 0.456, 0.406], std=[0.229, 0.224, 0.225])\n",
    "])\n",
    "input_img = transform(img).unsqueeze(0)\n",
    "\n",
    "# 첫 번째 예측 결과를 가져옵니다.\n",
    "result = results[0]\n",
    "\n",
    "# 바운딩 박스를 가져옵니다.\n",
    "boxes = result.boxes\n",
    "\n",
    "# 바운딩 박스 좌표 (x_center, y_center, width, height) 추출\n",
    "xywh = boxes.xywh.cpu().numpy()  # (x_center, y_center, width, height) 형태로 변환\n",
    "\n",
    "# 각 물고기의 특징 추출\n",
    "for box in boxes:\n",
    "    x_center, y_center, w, h = box\n",
    "    # 바운딩 박스를 이용해 물고기 부분 자르기\n",
    "    crop_img = img.crop((x_center - w / 2, y_center - h / 2, x_center + w / 2, y_center + h / 2))\n",
    "    crop_img = transform(crop_img).unsqueeze(0)  # 크롭된 이미지를 Re-ID 모델로 입력\n",
    "    \n",
    "    # Re-ID 모델을 통해 물고기의 임베딩 벡터 추출\n",
    "    with torch.no_grad():\n",
    "        embedding = reid_model(crop_img)\n",
    "    \n",
    "    # 여기서 embedding을 저장하거나, 다른 물고기 이미지와 유사도 계산 후, 같은 물고기인지 다른 물고기인지 구별합니다.\n",
    "    print(f\"Embeddings for detected fish: {embedding}\")"
   ]
  },
  {
   "cell_type": "code",
   "execution_count": 14,
   "id": "6086d5a5",
   "metadata": {},
   "outputs": [
    {
     "ename": "ModuleNotFoundError",
     "evalue": "No module named 'sklearn'",
     "output_type": "error",
     "traceback": [
      "\u001b[1;31m---------------------------------------------------------------------------\u001b[0m",
      "\u001b[1;31mModuleNotFoundError\u001b[0m                       Traceback (most recent call last)",
      "Cell \u001b[1;32mIn[14], line 1\u001b[0m\n\u001b[1;32m----> 1\u001b[0m \u001b[38;5;28;01mfrom\u001b[39;00m\u001b[38;5;250m \u001b[39m\u001b[38;5;21;01msklearn\u001b[39;00m\u001b[38;5;21;01m.\u001b[39;00m\u001b[38;5;21;01mmetrics\u001b[39;00m\u001b[38;5;21;01m.\u001b[39;00m\u001b[38;5;21;01mpairwise\u001b[39;00m\u001b[38;5;250m \u001b[39m\u001b[38;5;28;01mimport\u001b[39;00m cosine_similarity\n\u001b[0;32m      3\u001b[0m \u001b[38;5;66;03m# 두 물고기의 임베딩 벡터 비교 (Cosine Similarity)\u001b[39;00m\n\u001b[0;32m      4\u001b[0m similarity \u001b[38;5;241m=\u001b[39m cosine_similarity(embedding1, embedding2)\n",
      "\u001b[1;31mModuleNotFoundError\u001b[0m: No module named 'sklearn'"
     ]
    }
   ],
   "source": [
    "from sklearn.metrics.pairwise import cosine_similarity\n",
    "\n",
    "# 두 물고기의 임베딩 벡터 비교 (Cosine Similarity)\n",
    "similarity = cosine_similarity(embedding1, embedding2)\n",
    "print(f\"Similarity between the two fish: {similarity}\")"
   ]
  },
  {
   "cell_type": "code",
   "execution_count": null,
   "id": "46d80e03",
   "metadata": {},
   "outputs": [],
   "source": []
  }
 ],
 "metadata": {
  "kernelspec": {
   "display_name": "yolov_env",
   "language": "python",
   "name": "python3"
  },
  "language_info": {
   "codemirror_mode": {
    "name": "ipython",
    "version": 3
   },
   "file_extension": ".py",
   "mimetype": "text/x-python",
   "name": "python",
   "nbconvert_exporter": "python",
   "pygments_lexer": "ipython3",
   "version": "3.10.11"
  }
 },
 "nbformat": 4,
 "nbformat_minor": 5
}
